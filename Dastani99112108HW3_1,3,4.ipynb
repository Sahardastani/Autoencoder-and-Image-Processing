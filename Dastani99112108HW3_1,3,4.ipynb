{
  "nbformat": 4,
  "nbformat_minor": 0,
  "metadata": {
    "colab": {
      "name": "Dastani99112108HW3_1,3,4.ipynb",
      "provenance": [],
      "collapsed_sections": []
    },
    "kernelspec": {
      "name": "python3",
      "display_name": "Python 3"
    },
    "language_info": {
      "name": "python"
    }
  },
  "cells": [
    {
      "cell_type": "markdown",
      "metadata": {
        "id": "BUZYZ3fS5SCG"
      },
      "source": [
        "#**First Section"
      ]
    },
    {
      "cell_type": "markdown",
      "metadata": {
        "id": "K5rqD8zWqf_2"
      },
      "source": [
        "##Importing Libraries"
      ]
    },
    {
      "cell_type": "code",
      "metadata": {
        "id": "tnoOWUd5aBNS"
      },
      "source": [
        "import pickle\n",
        "import matplotlib\n",
        "%matplotlib inline\n",
        "import numpy as np\n",
        "import pandas as pd\n",
        "import tensorflow as tf\n",
        "from random import randint\n",
        "from imgaug import augmenters\n",
        "from keras.models import Model\n",
        "import matplotlib.pyplot as plt\n",
        "from keras.datasets import cifar10\n",
        "from numpy import argmax, array_equal\n",
        "from keras.utils import to_categorical\n",
        "from keras.datasets import fashion_mnist\n",
        "from keras.callbacks import EarlyStopping\n",
        "from sklearn.model_selection import train_test_split\n",
        "from keras.layers import Dense, Input, Conv2D, LSTM, MaxPool2D, UpSampling2D"
      ],
      "execution_count": 1,
      "outputs": []
    },
    {
      "cell_type": "markdown",
      "metadata": {
        "id": "8JAE2q8srAom"
      },
      "source": [
        "##Data Preprocessing"
      ]
    },
    {
      "cell_type": "code",
      "metadata": {
        "id": "rLQtkdxsqTzO",
        "colab": {
          "base_uri": "https://localhost:8080/"
        },
        "outputId": "a42f21f0-99b3-47ce-91f2-9c2c832dd6ba"
      },
      "source": [
        "#read dataset\n",
        "(train_x, train_y ), (test_x, test_y) = fashion_mnist.load_data()"
      ],
      "execution_count": 2,
      "outputs": [
        {
          "output_type": "stream",
          "text": [
            "Downloading data from https://storage.googleapis.com/tensorflow/tf-keras-datasets/train-labels-idx1-ubyte.gz\n",
            "32768/29515 [=================================] - 0s 0us/step\n",
            "Downloading data from https://storage.googleapis.com/tensorflow/tf-keras-datasets/train-images-idx3-ubyte.gz\n",
            "26427392/26421880 [==============================] - 0s 0us/step\n",
            "Downloading data from https://storage.googleapis.com/tensorflow/tf-keras-datasets/t10k-labels-idx1-ubyte.gz\n",
            "8192/5148 [===============================================] - 0s 0us/step\n",
            "Downloading data from https://storage.googleapis.com/tensorflow/tf-keras-datasets/t10k-images-idx3-ubyte.gz\n",
            "4423680/4422102 [==============================] - 0s 0us/step\n"
          ],
          "name": "stdout"
        }
      ]
    },
    {
      "cell_type": "code",
      "metadata": {
        "colab": {
          "base_uri": "https://localhost:8080/"
        },
        "id": "cq-_AwKEukeV",
        "outputId": "887086fc-4b45-4215-c692-ba1ca751e205"
      },
      "source": [
        "print('train_x size :',train_x.shape)\n",
        "print('train_y size :',train_y.shape)\n",
        "\n",
        "print('test_x size :',test_x.shape)\n",
        "print('test_y size :',test_y.shape)"
      ],
      "execution_count": 3,
      "outputs": [
        {
          "output_type": "stream",
          "text": [
            "train_x size : (60000, 28, 28)\n",
            "train_y size : (60000,)\n",
            "test_x size : (10000, 28, 28)\n",
            "test_y size : (10000,)\n"
          ],
          "name": "stdout"
        }
      ]
    },
    {
      "cell_type": "code",
      "metadata": {
        "colab": {
          "base_uri": "https://localhost:8080/"
        },
        "id": "RsAWgYpirWEF",
        "outputId": "831d408e-eaac-4471-8af5-de4da7ee8c70"
      },
      "source": [
        "#reshape dataset to have a single channel\n",
        "train_x = train_x.reshape((train_x.shape[0], 28, 28, 1))\n",
        "test_x =  test_x.reshape((test_x.shape[0], 28, 28, 1))\n",
        "print('--------------------Dataset is reshaped')\n",
        "\n",
        "#convert from integer to float\n",
        "train_x = train_x.astype('float32')\n",
        "test_x = test_x.astype('float32')\n",
        "print('--------------------Dataset is converted to float')\n",
        "\n",
        "#normalize to range 0-1\n",
        "train_x /= 255.0\n",
        "test_x /= 255.0\n",
        "print('--------------------Dataset is normalized')"
      ],
      "execution_count": 4,
      "outputs": [
        {
          "output_type": "stream",
          "text": [
            "--------------------Dataset is reshaped\n",
            "--------------------Dataset is converted to float\n",
            "--------------------Dataset is normalized\n"
          ],
          "name": "stdout"
        }
      ]
    },
    {
      "cell_type": "code",
      "metadata": {
        "id": "DXNnNuWUsdjp"
      },
      "source": [
        "#split into train and validation set\n",
        "train_x, val_x, train_y, val_y = train_test_split(train_x, train_y, test_size=0.2)"
      ],
      "execution_count": 5,
      "outputs": []
    },
    {
      "cell_type": "code",
      "metadata": {
        "id": "6lcmJQyksoml"
      },
      "source": [
        "#reshape the inputs\n",
        "train_x = train_x.reshape(-1, 784)\n",
        "val_x = val_x.reshape(-1, 784)"
      ],
      "execution_count": 6,
      "outputs": []
    },
    {
      "cell_type": "code",
      "metadata": {
        "colab": {
          "base_uri": "https://localhost:8080/"
        },
        "id": "c28R9PRzs1v0",
        "outputId": "84d8afab-4808-45c4-95a7-48b03a3f0c27"
      },
      "source": [
        "print('train_x size :',train_x.shape)\n",
        "print('val_x size :',val_x.shape)"
      ],
      "execution_count": 7,
      "outputs": [
        {
          "output_type": "stream",
          "text": [
            "train_x size : (48000, 784)\n",
            "val_x size : (12000, 784)\n"
          ],
          "name": "stdout"
        }
      ]
    },
    {
      "cell_type": "markdown",
      "metadata": {
        "id": "apj8c97lyXr8"
      },
      "source": [
        "##Creating Autoencoder"
      ]
    },
    {
      "cell_type": "code",
      "metadata": {
        "id": "s4UqWnYLs30K",
        "colab": {
          "base_uri": "https://localhost:8080/"
        },
        "outputId": "a35aaad0-3e9b-4616-97f6-cdc57c8b3ddf"
      },
      "source": [
        "#input layer\n",
        "input_layer = Input(shape=(784,))\n",
        "\n",
        "#encoding layer\n",
        "encode_layer1 = Dense(2000, activation='relu')(input_layer)\n",
        "encode_layer2 = Dense(1200, activation='relu')(encode_layer1)\n",
        "encode_layer3 = Dense(500, activation='relu')(encode_layer2)\n",
        "\n",
        "## latent view\n",
        "latent_view   = Dense(10, activation='sigmoid')(encode_layer3)\n",
        "\n",
        "#decoding layer\n",
        "decode_layer1 = Dense(500, activation='relu')(latent_view)\n",
        "decode_layer2 = Dense(1200, activation='relu')(decode_layer1)\n",
        "decode_layer3 = Dense(2000, activation='relu')(decode_layer2)\n",
        "\n",
        "#output layer\n",
        "output_layer  = Dense(784)(decode_layer3)\n",
        "\n",
        "model = Model(input_layer, output_layer)\n",
        "model.summary()"
      ],
      "execution_count": 8,
      "outputs": [
        {
          "output_type": "stream",
          "text": [
            "Model: \"model\"\n",
            "_________________________________________________________________\n",
            "Layer (type)                 Output Shape              Param #   \n",
            "=================================================================\n",
            "input_1 (InputLayer)         [(None, 784)]             0         \n",
            "_________________________________________________________________\n",
            "dense (Dense)                (None, 2000)              1570000   \n",
            "_________________________________________________________________\n",
            "dense_1 (Dense)              (None, 1200)              2401200   \n",
            "_________________________________________________________________\n",
            "dense_2 (Dense)              (None, 500)               600500    \n",
            "_________________________________________________________________\n",
            "dense_3 (Dense)              (None, 10)                5010      \n",
            "_________________________________________________________________\n",
            "dense_4 (Dense)              (None, 500)               5500      \n",
            "_________________________________________________________________\n",
            "dense_5 (Dense)              (None, 1200)              601200    \n",
            "_________________________________________________________________\n",
            "dense_6 (Dense)              (None, 2000)              2402000   \n",
            "_________________________________________________________________\n",
            "dense_7 (Dense)              (None, 784)               1568784   \n",
            "=================================================================\n",
            "Total params: 9,154,194\n",
            "Trainable params: 9,154,194\n",
            "Non-trainable params: 0\n",
            "_________________________________________________________________\n"
          ],
          "name": "stdout"
        }
      ]
    },
    {
      "cell_type": "markdown",
      "metadata": {
        "id": "SRPuEn69zAlS"
      },
      "source": [
        "###traing the model"
      ]
    },
    {
      "cell_type": "code",
      "metadata": {
        "colab": {
          "base_uri": "https://localhost:8080/"
        },
        "id": "4SpvntrYytZm",
        "outputId": "d72d040b-d8d1-4c7a-82dc-0f9f0c583376"
      },
      "source": [
        "model.compile(optimizer='adam', loss='mse')\n",
        "early_stopping = EarlyStopping(monitor='val_loss', min_delta=0, patience=10, verbose=1, mode='auto')\n",
        "model.fit(train_x, train_x, epochs=20, batch_size=2048, validation_data=(val_x, val_x), callbacks=[early_stopping])"
      ],
      "execution_count": 9,
      "outputs": [
        {
          "output_type": "stream",
          "text": [
            "Epoch 1/20\n",
            "24/24 [==============================] - 29s 1s/step - loss: 0.1185 - val_loss: 0.0660\n",
            "Epoch 2/20\n",
            "24/24 [==============================] - 28s 1s/step - loss: 0.0633 - val_loss: 0.0509\n",
            "Epoch 3/20\n",
            "24/24 [==============================] - 28s 1s/step - loss: 0.0482 - val_loss: 0.0413\n",
            "Epoch 4/20\n",
            "24/24 [==============================] - 28s 1s/step - loss: 0.0398 - val_loss: 0.0376\n",
            "Epoch 5/20\n",
            "24/24 [==============================] - 27s 1s/step - loss: 0.0367 - val_loss: 0.0350\n",
            "Epoch 6/20\n",
            "24/24 [==============================] - 27s 1s/step - loss: 0.0342 - val_loss: 0.0311\n",
            "Epoch 7/20\n",
            "24/24 [==============================] - 28s 1s/step - loss: 0.0307 - val_loss: 0.0289\n",
            "Epoch 8/20\n",
            "24/24 [==============================] - 29s 1s/step - loss: 0.0282 - val_loss: 0.0261\n",
            "Epoch 9/20\n",
            "24/24 [==============================] - 29s 1s/step - loss: 0.0256 - val_loss: 0.0248\n",
            "Epoch 10/20\n",
            "24/24 [==============================] - 28s 1s/step - loss: 0.0245 - val_loss: 0.0238\n",
            "Epoch 11/20\n",
            "24/24 [==============================] - 28s 1s/step - loss: 0.0235 - val_loss: 0.0228\n",
            "Epoch 12/20\n",
            "24/24 [==============================] - 28s 1s/step - loss: 0.0227 - val_loss: 0.0222\n",
            "Epoch 13/20\n",
            "24/24 [==============================] - 28s 1s/step - loss: 0.0218 - val_loss: 0.0233\n",
            "Epoch 14/20\n",
            "24/24 [==============================] - 27s 1s/step - loss: 0.0220 - val_loss: 0.0209\n",
            "Epoch 15/20\n",
            "24/24 [==============================] - 28s 1s/step - loss: 0.0207 - val_loss: 0.0209\n",
            "Epoch 16/20\n",
            "24/24 [==============================] - 28s 1s/step - loss: 0.0204 - val_loss: 0.0237\n",
            "Epoch 17/20\n",
            "24/24 [==============================] - 28s 1s/step - loss: 0.0217 - val_loss: 0.0199\n",
            "Epoch 18/20\n",
            "24/24 [==============================] - 28s 1s/step - loss: 0.0194 - val_loss: 0.0190\n",
            "Epoch 19/20\n",
            "24/24 [==============================] - 28s 1s/step - loss: 0.0191 - val_loss: 0.0188\n",
            "Epoch 20/20\n",
            "24/24 [==============================] - 28s 1s/step - loss: 0.0185 - val_loss: 0.0183\n"
          ],
          "name": "stdout"
        },
        {
          "output_type": "execute_result",
          "data": {
            "text/plain": [
              "<tensorflow.python.keras.callbacks.History at 0x7f77828f5850>"
            ]
          },
          "metadata": {
            "tags": []
          },
          "execution_count": 9
        }
      ]
    },
    {
      "cell_type": "markdown",
      "metadata": {
        "id": "ocJBL0pG4EKL"
      },
      "source": [
        "##Generating Prediction"
      ]
    },
    {
      "cell_type": "markdown",
      "metadata": {
        "id": "f9ZrUUAT4Wxj"
      },
      "source": [
        "###Actual Image"
      ]
    },
    {
      "cell_type": "code",
      "metadata": {
        "colab": {
          "base_uri": "https://localhost:8080/",
          "height": 213
        },
        "id": "VMZWFBA_zIpl",
        "outputId": "bef05bfb-9608-45c1-9727-1da78aeb0066"
      },
      "source": [
        "from PIL import Image \n",
        "f, ax = plt.subplots(1,3)\n",
        "f.set_size_inches(10, 10)\n",
        "for i in range(3):\n",
        "    ax[i].imshow(val_x[i].reshape(28, 28))\n",
        "plt.show()"
      ],
      "execution_count": 10,
      "outputs": [
        {
          "output_type": "display_data",
          "data": {
            "image/png": "[encoded data removed]",
            "text/plain": [
              "<Figure size 720x720 with 3 Axes>"
            ]
          },
          "metadata": {
            "tags": [],
            "needs_background": "light"
          }
        }
      ]
    },
    {
      "cell_type": "markdown",
      "metadata": {
        "id": "Y28_pUmY4Y1Y"
      },
      "source": [
        "###Predicted Image"
      ]
    },
    {
      "cell_type": "code",
      "metadata": {
        "colab": {
          "base_uri": "https://localhost:8080/",
          "height": 213
        },
        "id": "a17_WfbF3Ojn",
        "outputId": "f885df2e-5dee-4333-960a-081b71c7e472"
      },
      "source": [
        "preds = model.predict(val_x)\n",
        "\n",
        "f, ax = plt.subplots(1,3)\n",
        "f.set_size_inches(10, 10)\n",
        "for i in range(3):\n",
        "    ax[i].imshow(preds[i].reshape(28, 28))\n",
        "plt.show()"
      ],
      "execution_count": 11,
      "outputs": [
        {
          "output_type": "display_data",
          "data": {
            "image/png": "[encoded data removed]",
            "text/plain": [
              "<Figure size 720x720 with 3 Axes>"
            ]
          },
          "metadata": {
            "tags": [],
            "needs_background": "light"
          }
        }
      ]
    },
    {
      "cell_type": "markdown",
      "metadata": {
        "id": "kNJcwsq45Ysp"
      },
      "source": [
        "#**Second Section"
      ]
    },
    {
      "cell_type": "markdown",
      "metadata": {
        "id": "yc1Oco40qmPv"
      },
      "source": [
        "##Please Open The \"Second Section\" Jupyter File For Running The Second Part\n",
        "####Note that for solving the second question we have to use tf.contrib.layers and this madjule only works on tensorflow 1.14"
      ]
    },
    {
      "cell_type": "markdown",
      "metadata": {
        "id": "t2dE6JzE5cjw"
      },
      "source": [
        "#**Third Section"
      ]
    },
    {
      "cell_type": "markdown",
      "metadata": {
        "id": "VsF8hThr7ye6"
      },
      "source": [
        "##Dataset Preprocessing"
      ]
    },
    {
      "cell_type": "code",
      "metadata": {
        "id": "x_yUXoGc5e7t"
      },
      "source": [
        "#read dataset\n",
        "(train_x, train_y ), (test_x, test_y) = fashion_mnist.load_data()"
      ],
      "execution_count": 12,
      "outputs": []
    },
    {
      "cell_type": "code",
      "metadata": {
        "id": "_a7mVt1w62XX"
      },
      "source": [
        "#split into train and validation\n",
        "train_x, val_x = train_test_split(train_x, test_size=0.2)\n",
        "\n",
        "#normalize\n",
        "train_x = train_x/255.\n",
        "val_x = val_x/255."
      ],
      "execution_count": 13,
      "outputs": []
    },
    {
      "cell_type": "code",
      "metadata": {
        "colab": {
          "base_uri": "https://localhost:8080/"
        },
        "id": "EFqVTa527KgL",
        "outputId": "fdd8b80f-8383-4bb9-e540-cb6cc7972f33"
      },
      "source": [
        "print('train_x size :',train_x.shape)\n",
        "print('val_x size :',val_x.shape)"
      ],
      "execution_count": 14,
      "outputs": [
        {
          "output_type": "stream",
          "text": [
            "train_x size : (48000, 28, 28)\n",
            "val_x size : (12000, 28, 28)\n"
          ],
          "name": "stdout"
        }
      ]
    },
    {
      "cell_type": "code",
      "metadata": {
        "id": "vh__f7kk7ZGD"
      },
      "source": [
        "#reshape to 28*28 format\n",
        "train_x = train_x.reshape(-1, 28, 28, 1)\n",
        "val_x = val_x.reshape(-1, 28, 28, 1)"
      ],
      "execution_count": 15,
      "outputs": []
    },
    {
      "cell_type": "code",
      "metadata": {
        "colab": {
          "base_uri": "https://localhost:8080/"
        },
        "id": "PWLBXJ9Y7kBo",
        "outputId": "0c39040e-f1cf-4960-dda8-b94b111ba320"
      },
      "source": [
        "print('train_x size :',train_x.shape)\n",
        "print('val_x size :',val_x.shape)"
      ],
      "execution_count": 16,
      "outputs": [
        {
          "output_type": "stream",
          "text": [
            "train_x size : (48000, 28, 28, 1)\n",
            "val_x size : (12000, 28, 28, 1)\n"
          ],
          "name": "stdout"
        }
      ]
    },
    {
      "cell_type": "markdown",
      "metadata": {
        "id": "KdocUDFa8Tf5"
      },
      "source": [
        "##Adding Noise (Salt and Pepper)"
      ]
    },
    {
      "cell_type": "code",
      "metadata": {
        "id": "YgzUlMKj7lN8"
      },
      "source": [
        "noise = augmenters.SaltAndPepper(0.1)\n",
        "seq_object = augmenters.Sequential([noise])\n",
        "\n",
        "train_x_n = seq_object.augment_images(train_x * 255) / 255\n",
        "val_x_n = seq_object.augment_images(val_x * 255) / 255"
      ],
      "execution_count": 17,
      "outputs": []
    },
    {
      "cell_type": "markdown",
      "metadata": {
        "id": "U1puawkS8frc"
      },
      "source": [
        "###Sample befor adding noise"
      ]
    },
    {
      "cell_type": "code",
      "metadata": {
        "colab": {
          "base_uri": "https://localhost:8080/",
          "height": 146
        },
        "id": "6SoS-5_h8cGp",
        "outputId": "28af0053-61f7-48b6-dcfc-36d5772520e1"
      },
      "source": [
        "f, ax = plt.subplots(1,5)\n",
        "f.set_size_inches(10, 10)\n",
        "for i in range(5,10):\n",
        "    ax[i-5].imshow(train_x[i].reshape(28, 28))\n",
        "plt.show()"
      ],
      "execution_count": 18,
      "outputs": [
        {
          "output_type": "display_data",
          "data": {
            "image/png": "[encoded data removed]",
            "text/plain": [
              "<Figure size 720x720 with 5 Axes>"
            ]
          },
          "metadata": {
            "tags": [],
            "needs_background": "light"
          }
        }
      ]
    },
    {
      "cell_type": "markdown",
      "metadata": {
        "id": "azbyKq1a8kAh"
      },
      "source": [
        "###Sample after adding noise"
      ]
    },
    {
      "cell_type": "code",
      "metadata": {
        "colab": {
          "base_uri": "https://localhost:8080/",
          "height": 146
        },
        "id": "Vfxxl7Hy8lhh",
        "outputId": "b529ee5a-ac31-4ba1-c858-966591647ede"
      },
      "source": [
        "f, ax = plt.subplots(1,5)\n",
        "f.set_size_inches(10, 10)\n",
        "for i in range(5,10):\n",
        "    ax[i-5].imshow(train_x_n[i].reshape(28, 28))\n",
        "plt.show()"
      ],
      "execution_count": 19,
      "outputs": [
        {
          "output_type": "display_data",
          "data": {
            "image/png": "[encoded data removed]",
            "text/plain": [
              "<Figure size 720x720 with 5 Axes>"
            ]
          },
          "metadata": {
            "tags": [],
            "needs_background": "light"
          }
        }
      ]
    },
    {
      "cell_type": "markdown",
      "metadata": {
        "id": "awgCGfut8KvY"
      },
      "source": [
        "##Creating Autoencoder"
      ]
    },
    {
      "cell_type": "code",
      "metadata": {
        "colab": {
          "base_uri": "https://localhost:8080/"
        },
        "id": "9sm6Z0uz873F",
        "outputId": "7422f093-d987-45f7-8db4-a5110d66d1ce"
      },
      "source": [
        "#input layer\n",
        "input_layer = Input(shape=(28, 28, 1))\n",
        "\n",
        "#encoding layer\n",
        "encoded_layer1 = Conv2D(64, (3, 3), activation='relu', padding='same')(input_layer)\n",
        "encoded_layer1 = MaxPool2D( (2, 2), padding='same')(encoded_layer1)\n",
        "encoded_layer2 = Conv2D(32, (3, 3), activation='relu', padding='same')(encoded_layer1)\n",
        "encoded_layer2 = MaxPool2D( (2, 2), padding='same')(encoded_layer2)\n",
        "encoded_layer3 = Conv2D(16, (3, 3), activation='relu', padding='same')(encoded_layer2)\n",
        "latent_view    = MaxPool2D( (2, 2), padding='same')(encoded_layer3)\n",
        "\n",
        "#decoding layer\n",
        "decoded_layer1 = Conv2D(16, (3, 3), activation='relu', padding='same')(latent_view)\n",
        "decoded_layer1 = UpSampling2D((2, 2))(decoded_layer1)\n",
        "decoded_layer2 = Conv2D(32, (3, 3), activation='relu', padding='same')(decoded_layer1)\n",
        "decoded_layer2 = UpSampling2D((2, 2))(decoded_layer2)\n",
        "decoded_layer3 = Conv2D(64, (3, 3), activation='relu')(decoded_layer2)\n",
        "decoded_layer3 = UpSampling2D((2, 2))(decoded_layer3)\n",
        "output_layer   = Conv2D(1, (3, 3), padding='same')(decoded_layer3)\n",
        "\n",
        "#compile\n",
        "model_2 = Model(input_layer, output_layer)\n",
        "model_2.compile(optimizer='adam', loss='mse')\n",
        "\n",
        "#summary\n",
        "model_2.summary()"
      ],
      "execution_count": 20,
      "outputs": [
        {
          "output_type": "stream",
          "text": [
            "Model: \"model_1\"\n",
            "_________________________________________________________________\n",
            "Layer (type)                 Output Shape              Param #   \n",
            "=================================================================\n",
            "input_2 (InputLayer)         [(None, 28, 28, 1)]       0         \n",
            "_________________________________________________________________\n",
            "conv2d (Conv2D)              (None, 28, 28, 64)        640       \n",
            "_________________________________________________________________\n",
            "max_pooling2d (MaxPooling2D) (None, 14, 14, 64)        0         \n",
            "_________________________________________________________________\n",
            "conv2d_1 (Conv2D)            (None, 14, 14, 32)        18464     \n",
            "_________________________________________________________________\n",
            "max_pooling2d_1 (MaxPooling2 (None, 7, 7, 32)          0         \n",
            "_________________________________________________________________\n",
            "conv2d_2 (Conv2D)            (None, 7, 7, 16)          4624      \n",
            "_________________________________________________________________\n",
            "max_pooling2d_2 (MaxPooling2 (None, 4, 4, 16)          0         \n",
            "_________________________________________________________________\n",
            "conv2d_3 (Conv2D)            (None, 4, 4, 16)          2320      \n",
            "_________________________________________________________________\n",
            "up_sampling2d (UpSampling2D) (None, 8, 8, 16)          0         \n",
            "_________________________________________________________________\n",
            "conv2d_4 (Conv2D)            (None, 8, 8, 32)          4640      \n",
            "_________________________________________________________________\n",
            "up_sampling2d_1 (UpSampling2 (None, 16, 16, 32)        0         \n",
            "_________________________________________________________________\n",
            "conv2d_5 (Conv2D)            (None, 14, 14, 64)        18496     \n",
            "_________________________________________________________________\n",
            "up_sampling2d_2 (UpSampling2 (None, 28, 28, 64)        0         \n",
            "_________________________________________________________________\n",
            "conv2d_6 (Conv2D)            (None, 28, 28, 1)         577       \n",
            "=================================================================\n",
            "Total params: 49,761\n",
            "Trainable params: 49,761\n",
            "Non-trainable params: 0\n",
            "_________________________________________________________________\n"
          ],
          "name": "stdout"
        }
      ]
    },
    {
      "cell_type": "markdown",
      "metadata": {
        "id": "1oEQAnia8c1b"
      },
      "source": [
        "###training the model"
      ]
    },
    {
      "cell_type": "code",
      "metadata": {
        "colab": {
          "base_uri": "https://localhost:8080/"
        },
        "id": "1DcQdHfH8aLL",
        "outputId": "c789c16e-0e4a-4e5b-a9c5-aa191e0a6d70"
      },
      "source": [
        "early_stopping = EarlyStopping(monitor='val_loss', min_delta=0, patience=10, verbose=5, mode='auto')\n",
        "history = model_2.fit(train_x_n, train_x, epochs=10, batch_size=2048, validation_data=(val_x_n, val_x), callbacks=[early_stopping])"
      ],
      "execution_count": 21,
      "outputs": [
        {
          "output_type": "stream",
          "text": [
            "Epoch 1/10\n",
            "24/24 [==============================] - 205s 9s/step - loss: 0.1270 - val_loss: 0.0557\n",
            "Epoch 2/10\n",
            "24/24 [==============================] - 208s 9s/step - loss: 0.0520 - val_loss: 0.0391\n",
            "Epoch 3/10\n",
            "24/24 [==============================] - 205s 9s/step - loss: 0.0372 - val_loss: 0.0321\n",
            "Epoch 4/10\n",
            "24/24 [==============================] - 205s 9s/step - loss: 0.0311 - val_loss: 0.0281\n",
            "Epoch 5/10\n",
            "24/24 [==============================] - 204s 9s/step - loss: 0.0276 - val_loss: 0.0256\n",
            "Epoch 6/10\n",
            "24/24 [==============================] - 208s 9s/step - loss: 0.0252 - val_loss: 0.0240\n",
            "Epoch 7/10\n",
            "24/24 [==============================] - 206s 9s/step - loss: 0.0238 - val_loss: 0.0228\n",
            "Epoch 8/10\n",
            "24/24 [==============================] - 204s 9s/step - loss: 0.0227 - val_loss: 0.0225\n",
            "Epoch 9/10\n",
            "24/24 [==============================] - 204s 9s/step - loss: 0.0223 - val_loss: 0.0214\n",
            "Epoch 10/10\n",
            "24/24 [==============================] - 206s 9s/step - loss: 0.0214 - val_loss: 0.0209\n"
          ],
          "name": "stdout"
        }
      ]
    },
    {
      "cell_type": "markdown",
      "metadata": {
        "id": "kGTSehUTIjag"
      },
      "source": [
        "##Predicting"
      ]
    },
    {
      "cell_type": "code",
      "metadata": {
        "colab": {
          "base_uri": "https://localhost:8080/",
          "height": 146
        },
        "id": "IUOXQSyP8hBV",
        "outputId": "d5a41e41-4e7d-4799-88df-af2365c8f55e"
      },
      "source": [
        "preds = model_2.predict(val_x_n[:10])\n",
        "f, ax = plt.subplots(1,5)\n",
        "f.set_size_inches(10, 10)\n",
        "for i in range(5,10):\n",
        "    ax[i-5].imshow(preds[i].reshape(28, 28))\n",
        "plt.show()"
      ],
      "execution_count": 22,
      "outputs": [
        {
          "output_type": "display_data",
          "data": {
            "image/png": "[encoded data removed]",
            "text/plain": [
              "<Figure size 720x720 with 5 Axes>"
            ]
          },
          "metadata": {
            "tags": [],
            "needs_background": "light"
          }
        }
      ]
    },
    {
      "cell_type": "markdown",
      "metadata": {
        "id": "2zP6poChJ1mO"
      },
      "source": [
        "#**Forth Section"
      ]
    },
    {
      "cell_type": "markdown",
      "metadata": {
        "id": "QnTLNbW-3bR4"
      },
      "source": [
        "##Dataset preparation"
      ]
    },
    {
      "cell_type": "code",
      "metadata": {
        "id": "CKkpJd2kIqlm",
        "colab": {
          "base_uri": "https://localhost:8080/"
        },
        "outputId": "af076d39-4463-4aa4-c870-636ac1e422be"
      },
      "source": [
        "def dataset_preparation(n_in, n_out, n_unique, n_samples):\n",
        "    X1, X2, y = [], [], []\n",
        "    for _ in range(n_samples):\n",
        "        #random numbers sequence - input \n",
        "        inp_seq = [randint(1, n_unique-1) for _ in range(n_in)]\n",
        "        \n",
        "        #target sequence\n",
        "        target = inp_seq[:n_out]\n",
        "    \n",
        "        #padded sequence / seed sequence \n",
        "        target_seq = list(reversed(target))\n",
        "        seed_seq = [0] + target_seq[:-1]  \n",
        "        \n",
        "        #convert the elements to categorical(keras api)\n",
        "        X1.append(to_categorical([inp_seq], num_classes=n_unique))\n",
        "        X2.append(to_categorical([seed_seq], num_classes=n_unique))\n",
        "        y.append(to_categorical([target_seq], num_classes=n_unique))\n",
        "    \n",
        "    #remove unnecessary dimention\n",
        "    X1 = np.squeeze(np.array(X1), axis=1) \n",
        "    X2 = np.squeeze(np.array(X2), axis=1) \n",
        "    y  = np.squeeze(np.array(y), axis=1) \n",
        "    return X1, X2, y\n",
        "\n",
        "samples = 100000\n",
        "features = 51\n",
        "inp_size = 6\n",
        "out_size = 3\n",
        "\n",
        "inputs, seeds, outputs = dataset_preparation(inp_size, out_size, features, samples)\n",
        "print(\"Shapes: \", inputs.shape, seeds.shape, outputs.shape)\n",
        "print (\"first categorically encoded input sequence looks like: \", )\n",
        "inputs[0][0]"
      ],
      "execution_count": 23,
      "outputs": [
        {
          "output_type": "stream",
          "text": [
            "Shapes:  (100000, 6, 51) (100000, 3, 51) (100000, 3, 51)\n",
            "first categorically encoded input sequence looks like: \n"
          ],
          "name": "stdout"
        },
        {
          "output_type": "execute_result",
          "data": {
            "text/plain": [
              "array([0., 0., 0., 0., 0., 0., 0., 1., 0., 0., 0., 0., 0., 0., 0., 0., 0.,\n",
              "       0., 0., 0., 0., 0., 0., 0., 0., 0., 0., 0., 0., 0., 0., 0., 0., 0.,\n",
              "       0., 0., 0., 0., 0., 0., 0., 0., 0., 0., 0., 0., 0., 0., 0., 0., 0.],\n",
              "      dtype=float32)"
            ]
          },
          "metadata": {
            "tags": []
          },
          "execution_count": 23
        }
      ]
    },
    {
      "cell_type": "markdown",
      "metadata": {
        "id": "t16FNUrw_XDB"
      },
      "source": [
        "##Creating Autoencoder"
      ]
    },
    {
      "cell_type": "code",
      "metadata": {
        "id": "pPlc6HFP36g8"
      },
      "source": [
        "def define_models(n_input, n_output):\n",
        "    #encoder architecture -> I=sequence - O=encoder states \n",
        "    encoder_inputs = Input(shape=(None, n_input))\n",
        "    encoder = LSTM(128, return_state=True)\n",
        "    encoder_outputs, state_h, state_c = encoder(encoder_inputs)\n",
        "    encoder_states = [state_h, state_c]\n",
        "\n",
        "    #encoder-decoder architecture -> I=seed sequence - O=decoder states, decoded output \n",
        "    decoder_inputs = Input(shape=(None, n_output))\n",
        "    decoder_lstm = LSTM(128, return_sequences=True, return_state=True)\n",
        "    decoder_outputs, _, _ = decoder_lstm(decoder_inputs, initial_state=encoder_states)\n",
        "    decoder_dense = Dense(n_output, activation='softmax')\n",
        "    decoder_outputs = decoder_dense(decoder_outputs)\n",
        "    model = Model([encoder_inputs, decoder_inputs], decoder_outputs)\n",
        "    \n",
        "    #decoder model -> I=current states + encoded sequence - O=decoded sequence\n",
        "    encoder_model = Model(encoder_inputs, encoder_states)\n",
        "    decoder_state_input_h = Input(shape=(128,))\n",
        "    decoder_state_input_c = Input(shape=(128,))\n",
        "    decoder_states_inputs = [decoder_state_input_h, decoder_state_input_c]\n",
        "    decoder_outputs, state_h, state_c = decoder_lstm(decoder_inputs, initial_state=decoder_states_inputs)\n",
        "    decoder_states = [state_h, state_c]\n",
        "    decoder_outputs = decoder_dense(decoder_outputs)\n",
        "    decoder_model = Model([decoder_inputs] + decoder_states_inputs, [decoder_outputs] + decoder_states)\n",
        "\n",
        "    return model, encoder_model, decoder_model\n",
        "\n",
        "autoencoder, encoder_model, decoder_model = define_models(features, features)"
      ],
      "execution_count": 24,
      "outputs": []
    },
    {
      "cell_type": "code",
      "metadata": {
        "colab": {
          "base_uri": "https://localhost:8080/"
        },
        "id": "NL2f5foJ96fV",
        "outputId": "2d0e4211-bea8-4050-eee5-3e586aac6dee"
      },
      "source": [
        "encoder_model.summary()"
      ],
      "execution_count": 25,
      "outputs": [
        {
          "output_type": "stream",
          "text": [
            "Model: \"model_3\"\n",
            "_________________________________________________________________\n",
            "Layer (type)                 Output Shape              Param #   \n",
            "=================================================================\n",
            "input_3 (InputLayer)         [(None, None, 51)]        0         \n",
            "_________________________________________________________________\n",
            "lstm (LSTM)                  [(None, 128), (None, 128) 92160     \n",
            "=================================================================\n",
            "Total params: 92,160\n",
            "Trainable params: 92,160\n",
            "Non-trainable params: 0\n",
            "_________________________________________________________________\n"
          ],
          "name": "stdout"
        }
      ]
    },
    {
      "cell_type": "code",
      "metadata": {
        "colab": {
          "base_uri": "https://localhost:8080/"
        },
        "id": "xuEQSpVA9-Mm",
        "outputId": "fab61ca9-6480-4b5f-b42a-da0708f7b668"
      },
      "source": [
        "decoder_model.summary()"
      ],
      "execution_count": 26,
      "outputs": [
        {
          "output_type": "stream",
          "text": [
            "Model: \"model_4\"\n",
            "__________________________________________________________________________________________________\n",
            "Layer (type)                    Output Shape         Param #     Connected to                     \n",
            "==================================================================================================\n",
            "input_4 (InputLayer)            [(None, None, 51)]   0                                            \n",
            "__________________________________________________________________________________________________\n",
            "input_5 (InputLayer)            [(None, 128)]        0                                            \n",
            "__________________________________________________________________________________________________\n",
            "input_6 (InputLayer)            [(None, 128)]        0                                            \n",
            "__________________________________________________________________________________________________\n",
            "lstm_1 (LSTM)                   [(None, None, 128),  92160       input_4[0][0]                    \n",
            "                                                                 input_5[0][0]                    \n",
            "                                                                 input_6[0][0]                    \n",
            "__________________________________________________________________________________________________\n",
            "dense_8 (Dense)                 (None, None, 51)     6579        lstm_1[1][0]                     \n",
            "==================================================================================================\n",
            "Total params: 98,739\n",
            "Trainable params: 98,739\n",
            "Non-trainable params: 0\n",
            "__________________________________________________________________________________________________\n"
          ],
          "name": "stdout"
        }
      ]
    },
    {
      "cell_type": "code",
      "metadata": {
        "colab": {
          "base_uri": "https://localhost:8080/"
        },
        "id": "iMAGH2V0-BZT",
        "outputId": "7c52ee00-a943-435b-b92d-d6395561c3a8"
      },
      "source": [
        "autoencoder.summary()"
      ],
      "execution_count": 27,
      "outputs": [
        {
          "output_type": "stream",
          "text": [
            "Model: \"model_2\"\n",
            "__________________________________________________________________________________________________\n",
            "Layer (type)                    Output Shape         Param #     Connected to                     \n",
            "==================================================================================================\n",
            "input_3 (InputLayer)            [(None, None, 51)]   0                                            \n",
            "__________________________________________________________________________________________________\n",
            "input_4 (InputLayer)            [(None, None, 51)]   0                                            \n",
            "__________________________________________________________________________________________________\n",
            "lstm (LSTM)                     [(None, 128), (None, 92160       input_3[0][0]                    \n",
            "__________________________________________________________________________________________________\n",
            "lstm_1 (LSTM)                   [(None, None, 128),  92160       input_4[0][0]                    \n",
            "                                                                 lstm[0][1]                       \n",
            "                                                                 lstm[0][2]                       \n",
            "__________________________________________________________________________________________________\n",
            "dense_8 (Dense)                 (None, None, 51)     6579        lstm_1[0][0]                     \n",
            "==================================================================================================\n",
            "Total params: 190,899\n",
            "Trainable params: 190,899\n",
            "Non-trainable params: 0\n",
            "__________________________________________________________________________________________________\n"
          ],
          "name": "stdout"
        }
      ]
    },
    {
      "cell_type": "markdown",
      "metadata": {
        "id": "dljv9xga_d5D"
      },
      "source": [
        "###training the model"
      ]
    },
    {
      "cell_type": "code",
      "metadata": {
        "colab": {
          "base_uri": "https://localhost:8080/"
        },
        "id": "6e2TbEMR-EOq",
        "outputId": "52380c19-ca10-446e-9623-592a3c6d3dfe"
      },
      "source": [
        "autoencoder.compile(optimizer='adam', loss='categorical_crossentropy', metrics=['acc'])\n",
        "autoencoder.fit([inputs, seeds], outputs, epochs=1)"
      ],
      "execution_count": 28,
      "outputs": [
        {
          "output_type": "stream",
          "text": [
            "3125/3125 [==============================] - 45s 13ms/step - loss: 1.4462 - acc: 0.5525\n"
          ],
          "name": "stdout"
        },
        {
          "output_type": "execute_result",
          "data": {
            "text/plain": [
              "<tensorflow.python.keras.callbacks.History at 0x7f777e34b290>"
            ]
          },
          "metadata": {
            "tags": []
          },
          "execution_count": 28
        }
      ]
    },
    {
      "cell_type": "markdown",
      "metadata": {
        "id": "HG_cfK7D_hWI"
      },
      "source": [
        "##Predicting"
      ]
    },
    {
      "cell_type": "code",
      "metadata": {
        "id": "1I4-i04Y_RsW"
      },
      "source": [
        "def reverse_onehot(encoded_seq):\n",
        "    return [argmax(vector) for vector in encoded_seq]\n",
        "\n",
        "def predict_sequence(encoder, decoder, sequence):\n",
        "    output = []\n",
        "    target_seq = np.array([0.0 for _ in range(features)])\n",
        "    target_seq = target_seq.reshape(1, 1, features)\n",
        "\n",
        "    current_state = encoder.predict(sequence)\n",
        "    for t in range(out_size):\n",
        "        pred, h, c = decoder.predict([target_seq] + current_state)\n",
        "        output.append(pred[0, 0, :])\n",
        "        current_state = [h, c]\n",
        "        target_seq = pred\n",
        "    return np.array(output)"
      ],
      "execution_count": 29,
      "outputs": []
    },
    {
      "cell_type": "code",
      "metadata": {
        "colab": {
          "base_uri": "https://localhost:8080/"
        },
        "id": "pU0Kpy-I_mjb",
        "outputId": "e4434bee-f4af-4fb2-9ae2-cee918ccbf0b"
      },
      "source": [
        "for k in range(5):\n",
        "    X1, X2, y = dataset_preparation(inp_size, out_size, features, 1)\n",
        "    target = predict_sequence(encoder_model, decoder_model, X1)\n",
        "    print('\\nInput Sequence=%s SeedSequence=%s, PredictedSequence=%s' \n",
        "          % (reverse_onehot(X1[0]), reverse_onehot(y[0]), reverse_onehot(target)))"
      ],
      "execution_count": 30,
      "outputs": [
        {
          "output_type": "stream",
          "text": [
            "\n",
            "Input Sequence=[35, 16, 43, 17, 16, 44] SeedSequence=[43, 16, 35], PredictedSequence=[43, 16, 35]\n",
            "\n",
            "Input Sequence=[1, 39, 48, 38, 23, 34] SeedSequence=[48, 39, 1], PredictedSequence=[48, 39, 1]\n",
            "\n",
            "Input Sequence=[1, 35, 18, 32, 21, 37] SeedSequence=[18, 35, 1], PredictedSequence=[18, 35, 1]\n",
            "\n",
            "Input Sequence=[16, 42, 11, 40, 45, 8] SeedSequence=[11, 42, 16], PredictedSequence=[11, 42, 16]\n",
            "\n",
            "Input Sequence=[37, 45, 7, 25, 29, 39] SeedSequence=[7, 45, 37], PredictedSequence=[7, 45, 37]\n"
          ],
          "name": "stdout"
        }
      ]
    },
    {
      "cell_type": "code",
      "metadata": {
        "id": "WlXLXhdd_o8B"
      },
      "source": [
        ""
      ],
      "execution_count": 30,
      "outputs": []
    }
  ]
}