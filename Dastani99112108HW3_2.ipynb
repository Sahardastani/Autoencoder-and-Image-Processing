{
  "nbformat": 4,
  "nbformat_minor": 0,
  "metadata": {
    "colab": {
      "name": "Dastani99112108HW3_2.ipynb",
      "provenance": [],
      "collapsed_sections": []
    },
    "kernelspec": {
      "name": "python3",
      "display_name": "Python 3"
    },
    "language_info": {
      "name": "python"
    }
  },
  "cells": [
    {
      "cell_type": "markdown",
      "metadata": {
        "id": "kNJcwsq45Ysp"
      },
      "source": [
        "#**Second Section"
      ]
    },
    {
      "cell_type": "code",
      "metadata": {
        "id": "laC13HoPpmxR"
      },
      "source": [
        "#pip install tensorflow==1.14"
      ],
      "execution_count": null,
      "outputs": []
    },
    {
      "cell_type": "code",
      "metadata": {
        "id": "Bul0c7VUWgPY"
      },
      "source": [
        "import warnings\n",
        "warnings.filterwarnings(\"ignore\")"
      ],
      "execution_count": 1,
      "outputs": []
    },
    {
      "cell_type": "code",
      "metadata": {
        "id": "bszKmXCUQ2wH"
      },
      "source": [
        "import pickle\n",
        "import matplotlib\n",
        "%matplotlib inline\n",
        "import numpy as np\n",
        "import pandas as pd\n",
        "import tensorflow as tf\n",
        "from random import randint\n",
        "from imgaug import augmenters\n",
        "import matplotlib.pyplot as plt\n",
        "from numpy import argmax, array_equal\n",
        "from sklearn.model_selection import train_test_split"
      ],
      "execution_count": 2,
      "outputs": []
    },
    {
      "cell_type": "markdown",
      "metadata": {
        "id": "yc1Oco40qmPv"
      },
      "source": [
        "##Data preprocessing"
      ]
    },
    {
      "cell_type": "markdown",
      "metadata": {
        "id": "KV2rTi5sKJWD"
      },
      "source": [
        "###Download the dataset"
      ]
    },
    {
      "cell_type": "code",
      "metadata": {
        "id": "6yifiqFRI-Oa"
      },
      "source": [
        "from urllib.request import urlretrieve\n",
        "from os.path import isfile, isdir\n",
        "from tqdm import tqdm \n",
        "import tarfile\n",
        "\n",
        "cifar10_dataset_folder_path = 'cifar-10-batches-py'\n",
        "\n",
        "class DownloadProgress(tqdm):\n",
        "    last_block = 0\n",
        "\n",
        "    def hook(self, block_num=1, block_size=1, total_size=None):\n",
        "        self.total = total_size\n",
        "        self.update((block_num - self.last_block) * block_size)\n",
        "        self.last_block = block_num\n",
        "\n",
        "\"\"\" \n",
        "    check if the data (zip) file is already downloaded\n",
        "    if not, download it from \"https://www.cs.toronto.edu/~kriz/cifar-10-python.tar.gz\" and save as cifar-10-python.tar.gz\n",
        "\"\"\"\n",
        "if not isfile('cifar-10-python.tar.gz'):\n",
        "    with DownloadProgress(unit='B', unit_scale=True, miniters=1, desc='CIFAR-10 Dataset') as pbar:\n",
        "        urlretrieve(\n",
        "            'https://www.cs.toronto.edu/~kriz/cifar-10-python.tar.gz',\n",
        "            'cifar-10-python.tar.gz',\n",
        "            pbar.hook)\n",
        "\n",
        "if not isdir(cifar10_dataset_folder_path):\n",
        "    with tarfile.open('cifar-10-python.tar.gz') as tar:\n",
        "        tar.extractall()\n",
        "        tar.close()"
      ],
      "execution_count": 3,
      "outputs": []
    },
    {
      "cell_type": "code",
      "metadata": {
        "id": "PRJGk_tBGy-4"
      },
      "source": [
        "def unpickle(file):\n",
        "    import pickle\n",
        "    with open(file, 'rb') as fo:\n",
        "        dict = pickle.load(fo, encoding='latin1')\n",
        "    return dict"
      ],
      "execution_count": 4,
      "outputs": []
    },
    {
      "cell_type": "markdown",
      "metadata": {
        "id": "YAd11ILTqouv"
      },
      "source": [
        "###Black and White format"
      ]
    },
    {
      "cell_type": "code",
      "metadata": {
        "id": "i6D16hcsG4BS"
      },
      "source": [
        "def grayscale(im):\n",
        "    return im.reshape(im.shape[0], 3, 32, 32).mean(1).reshape(im.shape[0], -1)"
      ],
      "execution_count": 5,
      "outputs": []
    },
    {
      "cell_type": "markdown",
      "metadata": {
        "id": "dAjXkRBvKPGK"
      },
      "source": [
        "###Loading into memory"
      ]
    },
    {
      "cell_type": "code",
      "metadata": {
        "id": "2ynlvl6DG4Dv"
      },
      "source": [
        "data, labels = [], []\n",
        "\n",
        "for i in range(1, 6):\n",
        "    filename = '/content/cifar-10-batches-py/data_batch_' + str(i)\n",
        "    open_data = unpickle(filename)\n",
        "    if len(data) > 0:\n",
        "        data = np.vstack((data, open_data['data']))\n",
        "        labels = np.hstack((labels, open_data['labels']))\n",
        "    else:\n",
        "        data = open_data['data']\n",
        "        labels = open_data['labels']"
      ],
      "execution_count": 6,
      "outputs": []
    },
    {
      "cell_type": "code",
      "metadata": {
        "colab": {
          "base_uri": "https://localhost:8080/"
        },
        "id": "-h6Cvjy9OZZL",
        "outputId": "b76abc57-9e71-4c7a-8a57-22ea8d752458"
      },
      "source": [
        "data = grayscale(data)\n",
        "x = np.matrix(data)\n",
        "y = np.array(labels)\n",
        "print('X: ', x.shape)\n",
        "print('Y: ', y.shape)"
      ],
      "execution_count": 7,
      "outputs": [
        {
          "output_type": "stream",
          "text": [
            "X:  (50000, 1024)\n",
            "Y:  (50000,)\n"
          ],
          "name": "stdout"
        }
      ]
    },
    {
      "cell_type": "code",
      "metadata": {
        "id": "hnyDrYu-G4GX",
        "colab": {
          "base_uri": "https://localhost:8080/"
        },
        "outputId": "1977c27b-f0ea-4dbf-ee55-334579437f5e"
      },
      "source": [
        "horse_i = np.where(y == 7)[0]\n",
        "horse_x = x[horse_i]\n",
        "print(np.shape(horse_x)) "
      ],
      "execution_count": 8,
      "outputs": [
        {
          "output_type": "stream",
          "text": [
            "(5000, 1024)\n"
          ],
          "name": "stdout"
        }
      ]
    },
    {
      "cell_type": "markdown",
      "metadata": {
        "id": "yZ1hrLjsMUyX"
      },
      "source": [
        "###Ploting figures"
      ]
    },
    {
      "cell_type": "code",
      "metadata": {
        "id": "NKX2GHvVG4JJ"
      },
      "source": [
        "def plot_image(image, shape=[32, 32], cmap = \"Greys_r\"):\n",
        "    plt.imshow(image.reshape(shape), cmap=cmap,interpolation=\"nearest\")\n",
        "    plt.axis(\"off\")"
      ],
      "execution_count": 9,
      "outputs": []
    },
    {
      "cell_type": "code",
      "metadata": {
        "id": "kDWJf4_jFqZ3",
        "colab": {
          "base_uri": "https://localhost:8080/",
          "height": 248
        },
        "outputId": "cdb38eae-226a-4c08-f695-104e4815f293"
      },
      "source": [
        "plot_image(horse_x[53], shape=[32, 32], cmap = \"Greys_r\")\t"
      ],
      "execution_count": 10,
      "outputs": [
        {
          "output_type": "display_data",
          "data": {
            "image/png": "[encoded data removed]",
            "text/plain": [
              "<Figure size 432x288 with 1 Axes>"
            ]
          },
          "metadata": {
            "tags": [],
            "needs_background": "light"
          }
        }
      ]
    },
    {
      "cell_type": "markdown",
      "metadata": {
        "id": "oVxj70H8_z3e"
      },
      "source": [
        "##Dataset Estimator"
      ]
    },
    {
      "cell_type": "code",
      "metadata": {
        "colab": {
          "base_uri": "https://localhost:8080/",
          "height": 392
        },
        "id": "mazUFobAK8o6",
        "outputId": "ab4b6147-2b97-4a08-b954-82dbe3f8ecf6"
      },
      "source": [
        "# Parameters\n",
        "import tensorflow.compat.v1 as tf\n",
        "tf.disable_v2_behavior()\n",
        "\n",
        "n_inputs = 32 * 32\n",
        "BATCH_SIZE = 1\n",
        "batch_size = tf.placeholder(tf.int64)\n",
        "\n",
        "# placeholder\n",
        "x = tf.placeholder(tf.float32, shape=[None,n_inputs])\n",
        "# Dataset\n",
        "dataset = tf.data.Dataset.from_tensor_slices(x).repeat().batch(batch_size)\n",
        "iter = dataset.make_initializable_iterator() # create the iterator\n",
        "features = iter.get_next()\n",
        "\n",
        "# Print the image\n",
        "with tf.Session() as sess:\n",
        "    # feed the placeholder with data\n",
        "    sess.run(iter.initializer, feed_dict={x: horse_x[53], batch_size: BATCH_SIZE}) \n",
        "    print(sess.run(features).shape) \n",
        "    plot_image(sess.run(features), shape=[32, 32], cmap = \"Greys_r\")"
      ],
      "execution_count": 11,
      "outputs": [
        {
          "output_type": "stream",
          "text": [
            "WARNING:tensorflow:From /usr/local/lib/python3.7/dist-packages/tensorflow/python/compat/v2_compat.py:61: disable_resource_variables (from tensorflow.python.ops.variable_scope) is deprecated and will be removed in a future version.\n",
            "Instructions for updating:\n",
            "non-resource variables are not supported in the long term\n",
            "WARNING:tensorflow:From <ipython-input-11-bd4000f6057c>:13: DatasetV1.make_initializable_iterator (from tensorflow.python.data.ops.dataset_ops) is deprecated and will be removed in a future version.\n",
            "Instructions for updating:\n",
            "Use `for ... in dataset:` to iterate over a dataset. If using `tf.estimator`, return the `Dataset` object directly from your input function. As a last resort, you can use `tf.compat.v1.data.make_initializable_iterator(dataset)`.\n",
            "(1, 1024)\n"
          ],
          "name": "stdout"
        },
        {
          "output_type": "display_data",
          "data": {
            "image/png": "[encoded data removed]",
            "text/plain": [
              "<Figure size 432x288 with 1 Axes>"
            ]
          },
          "metadata": {
            "tags": [],
            "needs_background": "light"
          }
        }
      ]
    },
    {
      "cell_type": "markdown",
      "metadata": {
        "id": "MkQMwSP_MgvG"
      },
      "source": [
        "##Building Network"
      ]
    },
    {
      "cell_type": "markdown",
      "metadata": {
        "id": "7LSR80CETSMY"
      },
      "source": [
        "###Define the parameters"
      ]
    },
    {
      "cell_type": "code",
      "metadata": {
        "id": "m_6r9pYeCZWA"
      },
      "source": [
        "from functools import partial\n",
        "\n",
        "# Encoder\n",
        "n_hidden_1 = 200\n",
        "n_hidden_2 = 100  # codings\n",
        "\n",
        "# Decoder\n",
        "n_hidden_3 = n_hidden_1\n",
        "n_outputs = n_inputs\n",
        "\n",
        "learning_rate = 0.01\n",
        "l2_reg = 0.0001"
      ],
      "execution_count": 12,
      "outputs": []
    },
    {
      "cell_type": "code",
      "metadata": {
        "colab": {
          "base_uri": "https://localhost:8080/"
        },
        "id": "TOpR-AClCZYQ",
        "outputId": "8f7b475e-002a-4f23-f6c2-0664b5fc5c99"
      },
      "source": [
        "import tensorflow as tf\n",
        "\n",
        "#Xavier initialization\n",
        "xav_init =  tf.contrib.layers.xavier_initializer()\n",
        "#L2 regularizer\n",
        "l2_regularizer = tf.contrib.layers.l2_regularizer(l2_reg)"
      ],
      "execution_count": 13,
      "outputs": [
        {
          "output_type": "stream",
          "text": [
            "WARNING:tensorflow:\n",
            "The TensorFlow contrib module will not be included in TensorFlow 2.0.\n",
            "For more information, please see:\n",
            "  * https://github.com/tensorflow/community/blob/master/rfcs/20180907-contrib-sunset.md\n",
            "  * https://github.com/tensorflow/addons\n",
            "  * https://github.com/tensorflow/io (for I/O related ops)\n",
            "If you depend on functionality not listed there, please file an issue.\n",
            "\n"
          ],
          "name": "stdout"
        }
      ]
    },
    {
      "cell_type": "markdown",
      "metadata": {
        "id": "Zsh6sUYPTYQ2"
      },
      "source": [
        "###Define the layers"
      ]
    },
    {
      "cell_type": "code",
      "metadata": {
        "id": "t-_ytgUQRC7D"
      },
      "source": [
        "#dense layer\n",
        "dense_layer = partial(tf.layers.dense,\n",
        "                         activation=tf.nn.elu,\n",
        "                         kernel_initializer=xav_init,\n",
        "                         kernel_regularizer=l2_regularizer)"
      ],
      "execution_count": 14,
      "outputs": []
    },
    {
      "cell_type": "code",
      "metadata": {
        "colab": {
          "base_uri": "https://localhost:8080/"
        },
        "id": "O_I_wzBATv4E",
        "outputId": "99b96fd5-5a1a-4042-f062-d8ce57914c39"
      },
      "source": [
        "hidden_1 = dense_layer(features, n_hidden_1)\n",
        "hidden_2 = dense_layer(hidden_1, n_hidden_2)\n",
        "hidden_3 = dense_layer(hidden_2, n_hidden_3)\n",
        "outputs = dense_layer(hidden_3, n_outputs, activation=None)"
      ],
      "execution_count": 15,
      "outputs": [
        {
          "output_type": "stream",
          "text": [
            "WARNING:tensorflow:From <ipython-input-15-6f5852ed101b>:1: dense (from tensorflow.python.layers.core) is deprecated and will be removed in a future version.\n",
            "Instructions for updating:\n",
            "Use keras.layers.dense instead.\n",
            "WARNING:tensorflow:Entity <bound method Dense.call of <tensorflow.python.layers.core.Dense object at 0x7fd9d9379710>> could not be transformed and will be executed as-is. Please report this to the AutgoGraph team. When filing the bug, set the verbosity to 10 (on Linux, `export AUTOGRAPH_VERBOSITY=10`) and attach the full output. Cause: converting <bound method Dense.call of <tensorflow.python.layers.core.Dense object at 0x7fd9d9379710>>: AssertionError: Bad argument number for Name: 3, expecting 4\n",
            "WARNING: Entity <bound method Dense.call of <tensorflow.python.layers.core.Dense object at 0x7fd9d9379710>> could not be transformed and will be executed as-is. Please report this to the AutgoGraph team. When filing the bug, set the verbosity to 10 (on Linux, `export AUTOGRAPH_VERBOSITY=10`) and attach the full output. Cause: converting <bound method Dense.call of <tensorflow.python.layers.core.Dense object at 0x7fd9d9379710>>: AssertionError: Bad argument number for Name: 3, expecting 4\n",
            "WARNING:tensorflow:Entity <bound method Dense.call of <tensorflow.python.layers.core.Dense object at 0x7fd9d9941610>> could not be transformed and will be executed as-is. Please report this to the AutgoGraph team. When filing the bug, set the verbosity to 10 (on Linux, `export AUTOGRAPH_VERBOSITY=10`) and attach the full output. Cause: converting <bound method Dense.call of <tensorflow.python.layers.core.Dense object at 0x7fd9d9941610>>: AssertionError: Bad argument number for Name: 3, expecting 4\n",
            "WARNING: Entity <bound method Dense.call of <tensorflow.python.layers.core.Dense object at 0x7fd9d9941610>> could not be transformed and will be executed as-is. Please report this to the AutgoGraph team. When filing the bug, set the verbosity to 10 (on Linux, `export AUTOGRAPH_VERBOSITY=10`) and attach the full output. Cause: converting <bound method Dense.call of <tensorflow.python.layers.core.Dense object at 0x7fd9d9941610>>: AssertionError: Bad argument number for Name: 3, expecting 4\n",
            "WARNING:tensorflow:Entity <bound method Dense.call of <tensorflow.python.layers.core.Dense object at 0x7fd9d9941390>> could not be transformed and will be executed as-is. Please report this to the AutgoGraph team. When filing the bug, set the verbosity to 10 (on Linux, `export AUTOGRAPH_VERBOSITY=10`) and attach the full output. Cause: converting <bound method Dense.call of <tensorflow.python.layers.core.Dense object at 0x7fd9d9941390>>: AssertionError: Bad argument number for Name: 3, expecting 4\n",
            "WARNING: Entity <bound method Dense.call of <tensorflow.python.layers.core.Dense object at 0x7fd9d9941390>> could not be transformed and will be executed as-is. Please report this to the AutgoGraph team. When filing the bug, set the verbosity to 10 (on Linux, `export AUTOGRAPH_VERBOSITY=10`) and attach the full output. Cause: converting <bound method Dense.call of <tensorflow.python.layers.core.Dense object at 0x7fd9d9941390>>: AssertionError: Bad argument number for Name: 3, expecting 4\n",
            "WARNING:tensorflow:Entity <bound method Dense.call of <tensorflow.python.layers.core.Dense object at 0x7fd9d9941610>> could not be transformed and will be executed as-is. Please report this to the AutgoGraph team. When filing the bug, set the verbosity to 10 (on Linux, `export AUTOGRAPH_VERBOSITY=10`) and attach the full output. Cause: converting <bound method Dense.call of <tensorflow.python.layers.core.Dense object at 0x7fd9d9941610>>: AssertionError: Bad argument number for Name: 3, expecting 4\n",
            "WARNING: Entity <bound method Dense.call of <tensorflow.python.layers.core.Dense object at 0x7fd9d9941610>> could not be transformed and will be executed as-is. Please report this to the AutgoGraph team. When filing the bug, set the verbosity to 10 (on Linux, `export AUTOGRAPH_VERBOSITY=10`) and attach the full output. Cause: converting <bound method Dense.call of <tensorflow.python.layers.core.Dense object at 0x7fd9d9941610>>: AssertionError: Bad argument number for Name: 3, expecting 4\n"
          ],
          "name": "stdout"
        }
      ]
    },
    {
      "cell_type": "markdown",
      "metadata": {
        "id": "t3u-vp02W08M"
      },
      "source": [
        "###Define the optimization"
      ]
    },
    {
      "cell_type": "code",
      "metadata": {
        "id": "1vLovKU5VOEq"
      },
      "source": [
        "loss = tf.reduce_mean(tf.square(outputs - features))\n",
        "optimizer = tf.train.AdamOptimizer(learning_rate)\n",
        "train  = optimizer.minimize(loss)"
      ],
      "execution_count": 16,
      "outputs": []
    },
    {
      "cell_type": "code",
      "metadata": {
        "colab": {
          "base_uri": "https://localhost:8080/"
        },
        "id": "lyryNeB0W4nN",
        "outputId": "92665b39-c7b8-4116-efa6-6fd4d12be196"
      },
      "source": [
        "BATCH_SIZE = 100\n",
        "# Number of batches :  length dataset / batch size\n",
        "n_batches = horse_x.shape[0] // BATCH_SIZE\n",
        "print(n_batches)"
      ],
      "execution_count": 17,
      "outputs": [
        {
          "output_type": "stream",
          "text": [
            "50\n"
          ],
          "name": "stdout"
        }
      ]
    },
    {
      "cell_type": "markdown",
      "metadata": {
        "id": "TwFa7PYzZYk5"
      },
      "source": [
        "###Run the model"
      ]
    },
    {
      "cell_type": "code",
      "metadata": {
        "colab": {
          "base_uri": "https://localhost:8080/"
        },
        "id": "YPnu7ExXW-8P",
        "outputId": "f3d548a4-816c-44bb-b807-f112d34e289a"
      },
      "source": [
        "## Set params\n",
        "n_epochs = 100\n",
        "\n",
        "## Call Saver to save the model and re-use it later during evaluation\n",
        "saver = tf.train.Saver()\n",
        "\n",
        "with tf.Session() as sess:\n",
        "    sess.run(tf.global_variables_initializer())\n",
        "    # initialise iterator with train data\n",
        "    sess.run(iter.initializer, feed_dict={x: horse_x,\n",
        "                                          batch_size: BATCH_SIZE})\n",
        "    print('Training...')\n",
        "    print(sess.run(features).shape) \n",
        "    for epoch in range(n_epochs):       \n",
        "        for iteration in range(n_batches):\n",
        "            sess.run(train)\n",
        "        if epoch % 10 == 0:\n",
        "            loss_train = loss.eval()   # not shown\n",
        "            print(\"\\r{}\".format(epoch), \"Train MSE:\", loss_train) \n",
        "        #saver.save(sess, \"./my_model_all_layers.ckpt\") \n",
        "    save_path = saver.save(sess, \"./model.ckpt\")    \n",
        "    print(\"Model saved in path: %s\" % save_path) "
      ],
      "execution_count": 18,
      "outputs": [
        {
          "output_type": "stream",
          "text": [
            "Training...\n",
            "(100, 1024)\n",
            "0 Train MSE: 2693.0269\n",
            "10 Train MSE: 1494.4409\n",
            "20 Train MSE: 1451.501\n",
            "30 Train MSE: 1432.4578\n",
            "40 Train MSE: 1597.9347\n",
            "50 Train MSE: 1361.5663\n",
            "60 Train MSE: 1420.472\n",
            "70 Train MSE: 1409.49\n",
            "80 Train MSE: 1477.1985\n",
            "90 Train MSE: 1418.7662\n",
            "Model saved in path: ./model.ckpt\n"
          ],
          "name": "stdout"
        }
      ]
    },
    {
      "cell_type": "markdown",
      "metadata": {
        "id": "GGYG6GXtZc1l"
      },
      "source": [
        "###Evaluate the model"
      ]
    },
    {
      "cell_type": "code",
      "metadata": {
        "id": "wszKoRKqXEJb"
      },
      "source": [
        "test_data = unpickle('/content/cifar-10-batches-py/test_batch')\n",
        "test_x = grayscale(test_data['data'])\n",
        "test_labels = np.array(test_data['labels'])"
      ],
      "execution_count": 19,
      "outputs": []
    },
    {
      "cell_type": "code",
      "metadata": {
        "colab": {
          "base_uri": "https://localhost:8080/",
          "height": 248
        },
        "id": "2GhusJedXGdt",
        "outputId": "98cb6cb5-3099-462c-a333-c6db36689494"
      },
      "source": [
        "plot_image(test_x[13], shape=[32, 32], cmap = \"Greys_r\")\t"
      ],
      "execution_count": 20,
      "outputs": [
        {
          "output_type": "display_data",
          "data": {
            "image/png": "[encoded data removed]",
            "text/plain": [
              "<Figure size 432x288 with 1 Axes>"
            ]
          },
          "metadata": {
            "tags": [],
            "needs_background": "light"
          }
        }
      ]
    },
    {
      "cell_type": "code",
      "metadata": {
        "id": "Lq85U_kIXGgI"
      },
      "source": [
        "def reconstruct_image(df, image_number = 1):\n",
        "    ## Part 1: Reshape the image to the correct dimension i.e 1, 1024\n",
        "    x_test = df[image_number]\n",
        "    x_test_1 = x_test.reshape((1, 32*32))\n",
        "    \n",
        "    ## Part 2: Feed the model with the unseen image, encode/decode the image\n",
        "    with tf.Session() as sess:     \n",
        "        sess.run(tf.global_variables_initializer()) \n",
        "        sess.run(iter.initializer, feed_dict={x: x_test_1,\n",
        "                                      batch_size: 1})\n",
        "    ## Part 3:  Print the real and reconstructed image\n",
        "      # Restore variables from disk.\n",
        "        saver.restore(sess, \"./model.ckpt\")  \n",
        "        print(\"Model restored.\")\n",
        "      # Reconstruct image\n",
        "        outputs_val = outputs.eval()\n",
        "        print(outputs_val.shape)\n",
        "        fig = plt.figure()\n",
        "      # Plot real\n",
        "        ax1 = fig.add_subplot(121)\n",
        "        plot_image(x_test_1, shape=[32, 32], cmap = \"Greys_r\")\n",
        "      # Plot estimated\n",
        "        ax2 = fig.add_subplot(122)\n",
        "        plot_image(outputs_val, shape=[32, 32], cmap = \"Greys_r\")\n",
        "        plt.tight_layout()\n",
        "        fig = plt.gcf()"
      ],
      "execution_count": 21,
      "outputs": []
    },
    {
      "cell_type": "code",
      "metadata": {
        "colab": {
          "base_uri": "https://localhost:8080/",
          "height": 358
        },
        "id": "urb05n-7XGiV",
        "outputId": "e72fd3e9-8157-4bf2-8fba-287bf4dc8b5a"
      },
      "source": [
        "reconstruct_image(df =test_x, image_number = 13)"
      ],
      "execution_count": 22,
      "outputs": [
        {
          "output_type": "stream",
          "text": [
            "WARNING:tensorflow:From /usr/local/lib/python3.7/dist-packages/tensorflow/python/training/saver.py:1276: checkpoint_exists (from tensorflow.python.training.checkpoint_management) is deprecated and will be removed in a future version.\n",
            "Instructions for updating:\n",
            "Use standard file APIs to check for files with this prefix.\n",
            "INFO:tensorflow:Restoring parameters from ./model.ckpt\n",
            "Model restored.\n",
            "(1, 1024)\n"
          ],
          "name": "stdout"
        },
        {
          "output_type": "display_data",
          "data": {
            "image/png": "[encoded data removed]",
            "text/plain": [
              "<Figure size 432x288 with 2 Axes>"
            ]
          },
          "metadata": {
            "tags": [],
            "needs_background": "light"
          }
        }
      ]
    },
    {
      "cell_type": "code",
      "metadata": {
        "id": "5huGPiM_XGom"
      },
      "source": [
        ""
      ],
      "execution_count": 22,
      "outputs": []
    }
  ]
}